{
 "cells": [
  {
   "cell_type": "code",
   "execution_count": 1,
   "metadata": {},
   "outputs": [
    {
     "name": "stdout",
     "output_type": "stream",
     "text": [
      "Hello, world!\n",
      "Hello Again\n",
      "I like typing this.\n",
      "This is fun.\n",
      "Yay! Printing\n",
      "I'd much rather you 'not'.\n",
      "I \"said\" do not touch this.\n"
     ]
    }
   ],
   "source": [
    "print (\"Hello, world!\")\n",
    "print (\"Hello Again\")\n",
    "print (\"I like typing this.\")\n",
    "print (\"This is fun.\")\n",
    "print ('Yay! Printing')\n",
    "print (\"I'd much rather you 'not'.\")\n",
    "print ('I \"said\" do not touch this.')"
   ]
  },
  {
   "cell_type": "code",
   "execution_count": 39,
   "metadata": {},
   "outputs": [
    {
     "name": "stdout",
     "output_type": "stream",
     "text": [
      "There are 100 cars available.\n",
      "There are only 30 drivers available.\n",
      "There will be 70 empty cars today.\n",
      "We can transport 120 people today.\n",
      "We have 90 to carpool today.\n",
      "We need to put about 3.0 in each car.\n"
     ]
    }
   ],
   "source": [
    "cars = 100\n",
    "space_in_a_car = 4\n",
    "drivers = 30\n",
    "cars_not_driven = cars - drivers\n",
    "cars_driven = drivers\n",
    "carpool_capacity = cars_driven * space_in_a_car\n",
    "average_passengers_per_car = passengers / cars_driven\n",
    "\n",
    "print ((\"There are\"), cars, (\"cars available.\"))\n",
    "print ((\"There are only\"), drivers, (\"drivers available.\"))\n",
    "print ((\"There will be\"), cars_not_driven, (\"empty cars today.\"))\n",
    "print ((\"We can transport\"), carpool_capacity, (\"people today.\"))\n",
    "print ((\"We have\"), passengers, (\"to carpool today.\"))\n",
    "print ((\"We need to put about\"), average_passengers_per_car, (\"in each car.\"))\n"
   ]
  },
  {
   "cell_type": "code",
   "execution_count": 50,
   "metadata": {},
   "outputs": [
    {
     "name": "stdout",
     "output_type": "stream",
     "text": [
      "Lets talk about Zed A. Shaw.\n",
      "He's 74 inches tall.\n",
      "He's 180 pounds heavy.\n",
      "Actually that's not too heavy.\n",
      "He's got Blue eyes and Brown hair.\n",
      "His teeth are usually White depending on the coffee.\n",
      "If I add 35, 74, and 180 I get 289.\n"
     ]
    }
   ],
   "source": [
    "my_name = 'Zed A. Shaw' \n",
    "my_age = 35 # not a lie\n",
    "my_height = 74 # inches\n",
    "my_weight = 180 # lbs\n",
    "my_eyes = 'Blue'\n",
    "my_teeth = 'White'\n",
    "my_hair = 'Brown'\n",
    "\n",
    "print ((\"Lets talk about %s.\") % my_name) \n",
    "print ((\"He's %d inches tall.\") % my_height)\n",
    "print ((\"He's %d pounds heavy.\") % my_weight) \n",
    "print (\"Actually that's not too heavy.\")\n",
    "print ((\"He's got %s eyes and %s hair.\") % (my_eyes, my_hair))\n",
    "print ((\"His teeth are usually %s depending on the coffee.\") % my_teeth)\n",
    "\n",
    "# this line is tricky, try to get it exactly right\n",
    "print ((\"If I add %d, %d, and %d I get %d.\") % (my_age, my_height, my_weight, my_age + my_height + my_weight))\n",
    "\n"
   ]
  }
 ],
 "metadata": {
  "kernelspec": {
   "display_name": "Python 3",
   "language": "python",
   "name": "python3"
  },
  "language_info": {
   "codemirror_mode": {
    "name": "ipython",
    "version": 3
   },
   "file_extension": ".py",
   "mimetype": "text/x-python",
   "name": "python",
   "nbconvert_exporter": "python",
   "pygments_lexer": "ipython3",
   "version": "3.6.5"
  }
 },
 "nbformat": 4,
 "nbformat_minor": 2
}
